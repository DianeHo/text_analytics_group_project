{
 "cells": [
  {
   "cell_type": "code",
   "execution_count": null,
   "metadata": {},
   "outputs": [
    {
     "name": "stdout",
     "output_type": "stream",
     "text": [
      "Comments have been exported to 'reddit_comments_pandas.csv'.\n"
     ]
    },
    {
     "ename": "",
     "evalue": "",
     "output_type": "error",
     "traceback": [
      "\u001b[1;31mThe Kernel crashed while executing code in the current cell or a previous cell. \n",
      "\u001b[1;31mPlease review the code in the cell(s) to identify a possible cause of the failure. \n",
      "\u001b[1;31mClick <a href='https://aka.ms/vscodeJupyterKernelCrash'>here</a> for more info. \n",
      "\u001b[1;31mView Jupyter <a href='command:jupyter.viewOutput'>log</a> for further details."
     ]
    }
   ],
   "source": [
    "import praw\n",
    "import pandas as pd\n",
    "\n",
    "# Initialize Reddit API client with your credentials\n",
    "reddit = praw.Reddit(\n",
    "    client_id='CLIENT_ID',  # Replace with your client ID\n",
    "    client_secret='CLIENT_SECRET',  # Replace with your client secret\n",
    "    user_agent='USER'  # Replace with your user agent\n",
    ")\n",
    "\n",
    "# Post URL\n",
    "post_url = \"URL"\n",
    "\n",
    "# Extract the post's ID from the URL (everything after '/comments/')\n",
    "post_id = post_url.split('/')[-3]\n",
    "\n",
    "# Get the post object using its ID\n",
    "post = reddit.submission(id=post_id)\n",
    "\n",
    "# Prepare a list to store comments\n",
    "comments_data = []\n",
    "\n",
    "# Replace \"more comments\" to get all comments\n",
    "post.comments.replace_more(limit=0)\n",
    "\n",
    "# Loop through all comments and store the data in a list\n",
    "for comment in post.comments.list():\n",
    "    comment_data = {\n",
    "        \"Comment ID\": comment.id,\n",
    "        \"Comment Body\": comment.body,\n",
    "        \"Author\": comment.author if comment.author else \"Deleted\",  # Handle deleted authors\n",
    "        \"Upvotes\": comment.score,\n",
    "        \"Timestamp\": comment.created_utc  # UTC timestamp\n",
    "    }\n",
    "    comments_data.append(comment_data)\n",
    "\n",
    "# Convert the list of dictionaries to a DataFrame\n",
    "df = pd.DataFrame(comments_data)\n",
    "\n",
    "# Export the DataFrame to a CSV file\n",
    "df.to_csv('tariff_conservative.csv', index=False, encoding='utf-8')\n",
    "\n",
    "print(\"Comments have been exported to 'reddit_comments_pandas.csv'.\")\n"
   ]
  }
 ],
 "metadata": {
  "kernelspec": {
   "display_name": "Python 3",
   "language": "python",
   "name": "python3"
  },
  "language_info": {
   "codemirror_mode": {
    "name": "ipython",
    "version": 3
   },
   "file_extension": ".py",
   "mimetype": "text/x-python",
   "name": "python",
   "nbconvert_exporter": "python",
   "pygments_lexer": "ipython3",
   "version": "3.12.9"
  }
 },
 "nbformat": 4,
 "nbformat_minor": 2
}
