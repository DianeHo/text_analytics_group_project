{
 "cells": [
  {
   "cell_type": "code",
   "execution_count": null,
   "metadata": {},
   "outputs": [],
   "source": [
    "import numpy as np\n",
    "import pandas as pd\n",
    "from sklearn.feature_extraction.text import TfidfVectorizer\n",
    "from sklearn.metrics.pairwise import cosine_similarity\n",
    "from scipy.cluster.hierarchy import dendrogram, linkage, fcluster\n",
    "\n",
    "import matplotlib.pyplot as plt\n",
    "\n",
    "import time\n",
    "from datetime import datetime\n",
    "\n",
    "import tba3102"
   ]
  },
  {
   "cell_type": "code",
   "execution_count": null,
   "metadata": {},
   "outputs": [],
   "source": [
    "tba3102.set_default_pandas_options(max_columns=11)\n",
    "\n",
    "np.random.seed(int(round(time.time())))"
   ]
  },
  {
   "cell_type": "code",
   "execution_count": null,
   "metadata": {},
   "outputs": [],
   "source": [
    "df = pd.read_csv('../data/very_cleaned.csv', index_col=0)\n",
    "tba3102.data_quality_report(df)"
   ]
  },
  {
   "cell_type": "code",
   "execution_count": null,
   "metadata": {},
   "outputs": [],
   "source": [
    "# to allow you to reproduce the same clustering result, you can print out the random value used for the sampling\n",
    "# random_state = np.random.randint(2**31-1)\n",
    "random_state = 945649140\n",
    "print('random_state: {}'.format(random_state))"
   ]
  },
  {
   "cell_type": "code",
   "execution_count": null,
   "metadata": {},
   "outputs": [],
   "source": [
    "df = df.sample(frac=0.50, replace=False, random_state=random_state)\n",
    "df.reset_index(inplace=True)\n",
    "tba3102.data_quality_report(df)"
   ]
  },
  {
   "cell_type": "code",
   "execution_count": null,
   "metadata": {},
   "outputs": [],
   "source": [
    "print('Text processing started at {}'.format(datetime.now()))"
   ]
  },
  {
   "cell_type": "code",
   "execution_count": null,
   "metadata": {},
   "outputs": [],
   "source": [
    "tv = TfidfVectorizer(min_df=0.01, max_df=1.0, norm='l2', use_idf=True, smooth_idf=True)\n",
    "tv_matrix = tv.fit_transform(df['reviews.text_very_cleaned'])\n",
    "tv_matrix = tv_matrix.toarray()\n",
    "vocab = tv.get_feature_names_out()\n",
    "df_tfidf = pd.DataFrame(np.round(tv_matrix, 2), columns=vocab)\n",
    "\n",
    "df_tfidf.to_csv('../data/tfidf.csv')\n",
    "print('Number of terms extracted is {}'.format(df_tfidf.columns.size))"
   ]
  },
  {
   "cell_type": "code",
   "execution_count": null,
   "metadata": {},
   "outputs": [],
   "source": [
    "similarity_matrix = cosine_similarity(tv_matrix)\n",
    "df_similarity = pd.DataFrame(similarity_matrix)\n",
    "df_similarity"
   ]
  },
  {
   "cell_type": "code",
   "execution_count": null,
   "metadata": {},
   "outputs": [],
   "source": [
    "check_pairwise_similarity = True\n",
    "highest_similarity = 0.0\n",
    "highest_i = 0\n",
    "highest_j = 0\n",
    "\n",
    "stop_index = len(df_similarity) \n",
    "\n",
    "if check_pairwise_similarity:\n",
    "    \n",
    "    for i in range(len(df_similarity)):\n",
    "        \n",
    "        for j in range(df_similarity.columns.size):\n",
    "            \n",
    "            if i == j:\n",
    "                \n",
    "                break\n",
    "            \n",
    "            else:\n",
    "                \n",
    "                if df_similarity.loc[i,j] > highest_similarity:\n",
    "                    \n",
    "                    highest_similarity = df_similarity.loc[i,j]\n",
    "                    highest_i = i\n",
    "                    highest_j = j\n",
    "                    \n",
    "                    print('Current highest pairwise document similarity is {} between review {} and review {}'.format(highest_similarity, df.loc[highest_i,'index'], df.loc[highest_j,'index']))\n",
    "    \n",
    "    print('Highest pairwise document similarity is {} between review {} and review {}'.format(highest_similarity, df.loc[highest_i,'index'], df.loc[highest_j,'index']))\n",
    "\n",
    "else:\n",
    "    \n",
    "    print('Skipping pairwise similarity checking...')"
   ]
  },
  {
   "cell_type": "code",
   "execution_count": null,
   "metadata": {},
   "outputs": [],
   "source": [
    "Z = linkage(similarity_matrix, 'ward')\n",
    "\n",
    "plt.figure(figsize=(15, 12))\n",
    "plt.title('Hierarchical Clustering Dendrogram')\n",
    "plt.xlabel('Data point')\n",
    "plt.ylabel('Distance')\n",
    "dendrogram(Z)\n",
    "plt.axhline(y=1.0, c='k', ls='--', lw=0.5)"
   ]
  },
  {
   "cell_type": "code",
   "execution_count": null,
   "metadata": {},
   "outputs": [],
   "source": [
    "# for random_state = 945649140\n",
    "max_dist = 230.0\n",
    "cluster_labels = fcluster(Z, max_dist, criterion='distance')\n",
    "cluster_labels = pd.DataFrame(cluster_labels, columns=['ClusterLabel'])\n",
    "df_cluster = pd.concat([df, cluster_labels], axis=1)\n",
    "df_cluster.to_csv('../data/cluster.csv')"
   ]
  },
  {
   "cell_type": "code",
   "execution_count": null,
   "metadata": {},
   "outputs": [],
   "source": [
    "print('Text processing ended at {}'.format(datetime.now()))"
   ]
  }
 ],
 "metadata": {
  "kernelspec": {
   "display_name": "Python 3",
   "language": "python",
   "name": "python3"
  },
  "language_info": {
   "codemirror_mode": {
    "name": "ipython",
    "version": 3
   },
   "file_extension": ".py",
   "mimetype": "text/x-python",
   "name": "python",
   "nbconvert_exporter": "python",
   "pygments_lexer": "ipython3",
   "version": "3.12.4"
  }
 },
 "nbformat": 4,
 "nbformat_minor": 4
}
