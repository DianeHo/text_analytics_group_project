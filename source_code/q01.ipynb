{
 "cells": [
  {
   "cell_type": "markdown",
   "metadata": {},
   "source": [
    "Question 1 Text Preproccessing"
   ]
  },
  {
   "cell_type": "code",
   "execution_count": 39,
   "metadata": {},
   "outputs": [],
   "source": [
    "#import necessary libraries\n",
    "import pandas as pd\n",
    "import re\n",
    "import tba3102\n",
    "import nltk\n",
    "import numpy as np\n",
    "\n",
    "import spacy\n",
    "\n",
    "from datetime import datetime"
   ]
  },
  {
   "cell_type": "code",
   "execution_count": 40,
   "metadata": {},
   "outputs": [
    {
     "name": "stderr",
     "output_type": "stream",
     "text": [
      "/var/folders/9z/xr3gq08d44ncnvg26y63wvcr0000gn/T/ipykernel_78920/4152027771.py:3: DtypeWarning: Columns (15) have mixed types. Specify dtype option on import or set low_memory=False.\n",
      "  df = pd.read_csv(filepath, header=0)\n"
     ]
    },
    {
     "data": {
      "text/html": [
       "<div>\n",
       "<style scoped>\n",
       "    .dataframe tbody tr th:only-of-type {\n",
       "        vertical-align: middle;\n",
       "    }\n",
       "\n",
       "    .dataframe tbody tr th {\n",
       "        vertical-align: top;\n",
       "    }\n",
       "\n",
       "    .dataframe thead th {\n",
       "        text-align: right;\n",
       "    }\n",
       "</style>\n",
       "<table border=\"1\" class=\"dataframe\">\n",
       "  <thead>\n",
       "    <tr style=\"text-align: right;\">\n",
       "      <th></th>\n",
       "      <th>place_id</th>\n",
       "      <th>place_name</th>\n",
       "      <th>rating</th>\n",
       "      <th>review_text</th>\n",
       "      <th>published_at_date</th>\n",
       "      <th>review_likes_count</th>\n",
       "      <th>total_number_of_reviews_by_reviewer</th>\n",
       "      <th>is_local_guide</th>\n",
       "    </tr>\n",
       "  </thead>\n",
       "  <tbody>\n",
       "    <tr>\n",
       "      <th>0</th>\n",
       "      <td>ChIJ47NO1xcY2jERyFbfhYX2QFU</td>\n",
       "      <td>Keng Wah Sung Cafe</td>\n",
       "      <td>4</td>\n",
       "      <td>NaN</td>\n",
       "      <td>2024-10-21 09:36:14.139969</td>\n",
       "      <td>0</td>\n",
       "      <td>1.0</td>\n",
       "      <td>False</td>\n",
       "    </tr>\n",
       "    <tr>\n",
       "      <th>1</th>\n",
       "      <td>ChIJ47NO1xcY2jERyFbfhYX2QFU</td>\n",
       "      <td>Keng Wah Sung Cafe</td>\n",
       "      <td>5</td>\n",
       "      <td>Keng Wah Sung Cafe is a local gem in Geylang t...</td>\n",
       "      <td>2024-10-21 09:36:14.160910</td>\n",
       "      <td>0</td>\n",
       "      <td>240.0</td>\n",
       "      <td>True</td>\n",
       "    </tr>\n",
       "    <tr>\n",
       "      <th>2</th>\n",
       "      <td>ChIJ47NO1xcY2jERyFbfhYX2QFU</td>\n",
       "      <td>Keng Wah Sung Cafe</td>\n",
       "      <td>5</td>\n",
       "      <td>Piping hot kopi O and economy bee hoon top wit...</td>\n",
       "      <td>2024-10-21 09:36:14.243923</td>\n",
       "      <td>0</td>\n",
       "      <td>7.0</td>\n",
       "      <td>True</td>\n",
       "    </tr>\n",
       "    <tr>\n",
       "      <th>3</th>\n",
       "      <td>ChIJ47NO1xcY2jERyFbfhYX2QFU</td>\n",
       "      <td>Keng Wah Sung Cafe</td>\n",
       "      <td>3</td>\n",
       "      <td>A long-established copy shop that often comes ...</td>\n",
       "      <td>2024-10-21 09:36:14.299134</td>\n",
       "      <td>0</td>\n",
       "      <td>168.0</td>\n",
       "      <td>True</td>\n",
       "    </tr>\n",
       "    <tr>\n",
       "      <th>4</th>\n",
       "      <td>ChIJ47NO1xcY2jERyFbfhYX2QFU</td>\n",
       "      <td>Keng Wah Sung Cafe</td>\n",
       "      <td>5</td>\n",
       "      <td>Was googling about hidden gems and found this ...</td>\n",
       "      <td>2024-10-14 09:36:14.584413</td>\n",
       "      <td>0</td>\n",
       "      <td>25.0</td>\n",
       "      <td>True</td>\n",
       "    </tr>\n",
       "    <tr>\n",
       "      <th>5</th>\n",
       "      <td>ChIJ47NO1xcY2jERyFbfhYX2QFU</td>\n",
       "      <td>Keng Wah Sung Cafe</td>\n",
       "      <td>4</td>\n",
       "      <td>Coffee   toast bread   and eggs    affordable ...</td>\n",
       "      <td>2024-10-14 09:36:14.664912</td>\n",
       "      <td>0</td>\n",
       "      <td>75.0</td>\n",
       "      <td>True</td>\n",
       "    </tr>\n",
       "    <tr>\n",
       "      <th>6</th>\n",
       "      <td>ChIJ47NO1xcY2jERyFbfhYX2QFU</td>\n",
       "      <td>Keng Wah Sung Cafe</td>\n",
       "      <td>5</td>\n",
       "      <td>A great authentic local Kopitam in Singapore. ...</td>\n",
       "      <td>2024-10-07 09:36:14.696283</td>\n",
       "      <td>0</td>\n",
       "      <td>100.0</td>\n",
       "      <td>True</td>\n",
       "    </tr>\n",
       "    <tr>\n",
       "      <th>7</th>\n",
       "      <td>ChIJ47NO1xcY2jERyFbfhYX2QFU</td>\n",
       "      <td>Keng Wah Sung Cafe</td>\n",
       "      <td>5</td>\n",
       "      <td>NaN</td>\n",
       "      <td>2024-10-07 09:36:14.783354</td>\n",
       "      <td>0</td>\n",
       "      <td>2.0</td>\n",
       "      <td>False</td>\n",
       "    </tr>\n",
       "    <tr>\n",
       "      <th>8</th>\n",
       "      <td>ChIJ47NO1xcY2jERyFbfhYX2QFU</td>\n",
       "      <td>Keng Wah Sung Cafe</td>\n",
       "      <td>5</td>\n",
       "      <td>Kaya toast is definitely popular here, the out...</td>\n",
       "      <td>2024-10-07 09:36:14.803046</td>\n",
       "      <td>1</td>\n",
       "      <td>832.0</td>\n",
       "      <td>True</td>\n",
       "    </tr>\n",
       "    <tr>\n",
       "      <th>9</th>\n",
       "      <td>ChIJ47NO1xcY2jERyFbfhYX2QFU</td>\n",
       "      <td>Keng Wah Sung Cafe</td>\n",
       "      <td>5</td>\n",
       "      <td>Love the nasi lemak here..</td>\n",
       "      <td>2024-10-07 09:36:14.897906</td>\n",
       "      <td>0</td>\n",
       "      <td>49.0</td>\n",
       "      <td>True</td>\n",
       "    </tr>\n",
       "  </tbody>\n",
       "</table>\n",
       "</div>"
      ],
      "text/plain": [
       "                      place_id          place_name  rating                                        review_text           published_at_date  review_likes_count  total_number_of_reviews_by_reviewer is_local_guide\n",
       "0  ChIJ47NO1xcY2jERyFbfhYX2QFU  Keng Wah Sung Cafe       4                                                NaN  2024-10-21 09:36:14.139969                   0                                  1.0          False\n",
       "1  ChIJ47NO1xcY2jERyFbfhYX2QFU  Keng Wah Sung Cafe       5  Keng Wah Sung Cafe is a local gem in Geylang t...  2024-10-21 09:36:14.160910                   0                                240.0           True\n",
       "2  ChIJ47NO1xcY2jERyFbfhYX2QFU  Keng Wah Sung Cafe       5  Piping hot kopi O and economy bee hoon top wit...  2024-10-21 09:36:14.243923                   0                                  7.0           True\n",
       "3  ChIJ47NO1xcY2jERyFbfhYX2QFU  Keng Wah Sung Cafe       3  A long-established copy shop that often comes ...  2024-10-21 09:36:14.299134                   0                                168.0           True\n",
       "4  ChIJ47NO1xcY2jERyFbfhYX2QFU  Keng Wah Sung Cafe       5  Was googling about hidden gems and found this ...  2024-10-14 09:36:14.584413                   0                                 25.0           True\n",
       "5  ChIJ47NO1xcY2jERyFbfhYX2QFU  Keng Wah Sung Cafe       4  Coffee   toast bread   and eggs    affordable ...  2024-10-14 09:36:14.664912                   0                                 75.0           True\n",
       "6  ChIJ47NO1xcY2jERyFbfhYX2QFU  Keng Wah Sung Cafe       5  A great authentic local Kopitam in Singapore. ...  2024-10-07 09:36:14.696283                   0                                100.0           True\n",
       "7  ChIJ47NO1xcY2jERyFbfhYX2QFU  Keng Wah Sung Cafe       5                                                NaN  2024-10-07 09:36:14.783354                   0                                  2.0          False\n",
       "8  ChIJ47NO1xcY2jERyFbfhYX2QFU  Keng Wah Sung Cafe       5  Kaya toast is definitely popular here, the out...  2024-10-07 09:36:14.803046                   1                                832.0           True\n",
       "9  ChIJ47NO1xcY2jERyFbfhYX2QFU  Keng Wah Sung Cafe       5                         Love the nasi lemak here..  2024-10-07 09:36:14.897906                   0                                 49.0           True"
      ]
     },
     "metadata": {},
     "output_type": "display_data"
    }
   ],
   "source": [
    "#load dataset\n",
    "filepath = '/Users/dianeho/Downloads/data/detailed-review/cleaned_combined_data.csv'\n",
    "df = pd.read_csv(filepath, header=0)\n",
    "\n",
    "df.drop(['review_id','published_at','response_from_owner_text','response_from_owner_ago','response_from_owner_date','total_number_of_photos_by_reviewer','review_translated_text','response_from_owner_translated_text'], axis=1, inplace=True)\n",
    "df.reset_index(drop=True, inplace=True)\n",
    "display(df.head(10))"
   ]
  },
  {
   "cell_type": "code",
   "execution_count": 41,
   "metadata": {},
   "outputs": [
    {
     "data": {
      "text/plain": [
       "place_id                                   0\n",
       "place_name                                 0\n",
       "rating                                     0\n",
       "review_text                            66332\n",
       "published_at_date                          1\n",
       "review_likes_count                         0\n",
       "total_number_of_reviews_by_reviewer     6689\n",
       "is_local_guide                          6474\n",
       "dtype: int64"
      ]
     },
     "execution_count": 41,
     "metadata": {},
     "output_type": "execute_result"
    }
   ],
   "source": [
    "df.isna().sum()\n"
   ]
  },
  {
   "cell_type": "code",
   "execution_count": 42,
   "metadata": {},
   "outputs": [
    {
     "name": "stdout",
     "output_type": "stream",
     "text": [
      "total number of reviews: 202330\n"
     ]
    }
   ],
   "source": [
    "print('total number of reviews:', len(df))\n",
    "df.dropna(subset=['review_text'], inplace=True)\n",
    "df.reset_index(drop=True, inplace=True)"
   ]
  },
  {
   "cell_type": "code",
   "execution_count": 43,
   "metadata": {},
   "outputs": [
    {
     "data": {
      "text/plain": [
       "place_id                                0\n",
       "place_name                              0\n",
       "rating                                  0\n",
       "review_text                             0\n",
       "published_at_date                       0\n",
       "review_likes_count                      0\n",
       "total_number_of_reviews_by_reviewer    86\n",
       "is_local_guide                         86\n",
       "dtype: int64"
      ]
     },
     "execution_count": 43,
     "metadata": {},
     "output_type": "execute_result"
    }
   ],
   "source": [
    "df.isna().sum()\n"
   ]
  },
  {
   "cell_type": "code",
   "execution_count": 44,
   "metadata": {},
   "outputs": [
    {
     "name": "stdout",
     "output_type": "stream",
     "text": [
      "total number of reviews: 135998\n"
     ]
    }
   ],
   "source": [
    "print('total number of reviews:', len(df))"
   ]
  },
  {
   "cell_type": "code",
   "execution_count": 45,
   "metadata": {},
   "outputs": [
    {
     "name": "stdout",
     "output_type": "stream",
     "text": [
      "Text processing started at 2025-03-15 16:19:55.164788\n"
     ]
    }
   ],
   "source": [
    "#text-processing (correct spelling, lemmatization, removal of stop words)\n",
    "tba3102.set_default_pandas_options()\n",
    "\n",
    "print('Text processing started at {}'.format(datetime.now()))"
   ]
  },
  {
   "cell_type": "code",
   "execution_count": 46,
   "metadata": {},
   "outputs": [
    {
     "ename": "KeyboardInterrupt",
     "evalue": "",
     "output_type": "error",
     "traceback": [
      "\u001b[31m---------------------------------------------------------------------------\u001b[39m",
      "\u001b[31mKeyboardInterrupt\u001b[39m                         Traceback (most recent call last)",
      "\u001b[36mCell\u001b[39m\u001b[36m \u001b[39m\u001b[32mIn[46]\u001b[39m\u001b[32m, line 5\u001b[39m\n\u001b[32m      1\u001b[39m \u001b[38;5;66;03m#stopword_exclusion_list = ['no', 'not']\u001b[39;00m\n\u001b[32m      2\u001b[39m \u001b[38;5;66;03m#tba3102.exclude_stopwords(stopword_exclusion_list)\u001b[39;00m\n\u001b[32m----> \u001b[39m\u001b[32m5\u001b[39m \u001b[43mtba3102\u001b[49m\u001b[43m.\u001b[49m\u001b[43mnormalize_corpus\u001b[49m\u001b[43m(\u001b[49m\u001b[43mdf\u001b[49m\u001b[43m,\u001b[49m\u001b[43m \u001b[49m\u001b[33;43m'\u001b[39;49m\u001b[33;43mreview_text\u001b[39;49m\u001b[33;43m'\u001b[39;49m\u001b[43m,\u001b[49m\u001b[43m \u001b[49m\u001b[33;43m'\u001b[39;49m\u001b[33;43mcleaned_review_text\u001b[39;49m\u001b[33;43m'\u001b[39;49m\u001b[43m)\u001b[49m\n\u001b[32m      7\u001b[39m df.head(\u001b[32m10\u001b[39m)\n",
      "\u001b[36mFile \u001b[39m\u001b[32m~/Desktop/text_analytics/text_analytics/industrial_practice/Practical_Lab_Attemp/tba3102.py:255\u001b[39m, in \u001b[36mnormalize_corpus\u001b[39m\u001b[34m(dataframe, raw_column, clean_column, html_stripping, accented_char_removal, contraction_expansion, text_lower_case, extra_newlines_removal, extra_whitespace_removal, special_char_removal, remove_digits, repeating_char_removal, spelling_correction, lemmatize, stop_word_removal)\u001b[39m\n\u001b[32m    251\u001b[39m     word_tokens = remove_repeated_characters(word_tokens)\n\u001b[32m    253\u001b[39m \u001b[38;5;28;01mif\u001b[39;00m spelling_correction:\n\u001b[32m--> \u001b[39m\u001b[32m255\u001b[39m     word_tokens = \u001b[43mcorrect_spelling\u001b[49m\u001b[43m(\u001b[49m\u001b[43mword_tokens\u001b[49m\u001b[43m)\u001b[49m\n\u001b[32m    257\u001b[39m \u001b[38;5;28;01mif\u001b[39;00m lemmatize:\n\u001b[32m    259\u001b[39m     word_tokens = lemmatize_tokens(word_tokens)\n",
      "\u001b[36mFile \u001b[39m\u001b[32m~/Desktop/text_analytics/text_analytics/industrial_practice/Practical_Lab_Attemp/tba3102.py:153\u001b[39m, in \u001b[36mcorrect_spelling\u001b[39m\u001b[34m(word_tokens)\u001b[39m\n\u001b[32m    150\u001b[39m \u001b[38;5;28;01mfor\u001b[39;00m i \u001b[38;5;129;01min\u001b[39;00m \u001b[38;5;28mrange\u001b[39m(\u001b[38;5;28mlen\u001b[39m(word_tokens)):\n\u001b[32m    152\u001b[39m     w = Word(word_tokens[i])\n\u001b[32m--> \u001b[39m\u001b[32m153\u001b[39m     word_tokens[i] = \u001b[43mw\u001b[49m\u001b[43m.\u001b[49m\u001b[43mcorrect\u001b[49m\u001b[43m(\u001b[49m\u001b[43m)\u001b[49m\n\u001b[32m    155\u001b[39m \u001b[38;5;28;01mreturn\u001b[39;00m word_tokens\n",
      "\u001b[36mFile \u001b[39m\u001b[32m/Library/Frameworks/Python.framework/Versions/3.12/lib/python3.12/site-packages/textblob/blob.py:115\u001b[39m, in \u001b[36mWord.correct\u001b[39m\u001b[34m(self)\u001b[39m\n\u001b[32m    109\u001b[39m \u001b[38;5;28;01mdef\u001b[39;00m \u001b[34mcorrect\u001b[39m(\u001b[38;5;28mself\u001b[39m):\n\u001b[32m    110\u001b[39m \u001b[38;5;250m    \u001b[39m\u001b[33;03m\"\"\"Correct the spelling of the word. Returns the word with the highest\u001b[39;00m\n\u001b[32m    111\u001b[39m \u001b[33;03m    confidence using the spelling corrector.\u001b[39;00m\n\u001b[32m    112\u001b[39m \n\u001b[32m    113\u001b[39m \u001b[33;03m    .. versionadded:: 0.6.0\u001b[39;00m\n\u001b[32m    114\u001b[39m \u001b[33;03m    \"\"\"\u001b[39;00m\n\u001b[32m--> \u001b[39m\u001b[32m115\u001b[39m     \u001b[38;5;28;01mreturn\u001b[39;00m Word(\u001b[38;5;28;43mself\u001b[39;49m\u001b[43m.\u001b[49m\u001b[43mspellcheck\u001b[49m\u001b[43m(\u001b[49m\u001b[43m)\u001b[49m[\u001b[32m0\u001b[39m][\u001b[32m0\u001b[39m])\n",
      "\u001b[36mFile \u001b[39m\u001b[32m/Library/Frameworks/Python.framework/Versions/3.12/lib/python3.12/site-packages/textblob/blob.py:107\u001b[39m, in \u001b[36mWord.spellcheck\u001b[39m\u001b[34m(self)\u001b[39m\n\u001b[32m     98\u001b[39m \u001b[38;5;28;01mdef\u001b[39;00m \u001b[34mspellcheck\u001b[39m(\u001b[38;5;28mself\u001b[39m):\n\u001b[32m     99\u001b[39m \u001b[38;5;250m    \u001b[39m\u001b[33;03m\"\"\"Return a list of (word, confidence) tuples of spelling corrections.\u001b[39;00m\n\u001b[32m    100\u001b[39m \n\u001b[32m    101\u001b[39m \u001b[33;03m    Based on: Peter Norvig, \"How to Write a Spelling Corrector\"\u001b[39;00m\n\u001b[32m   (...)\u001b[39m\u001b[32m    105\u001b[39m \u001b[33;03m    .. versionadded:: 0.6.0\u001b[39;00m\n\u001b[32m    106\u001b[39m \u001b[33;03m    \"\"\"\u001b[39;00m\n\u001b[32m--> \u001b[39m\u001b[32m107\u001b[39m     \u001b[38;5;28;01mreturn\u001b[39;00m \u001b[43msuggest\u001b[49m\u001b[43m(\u001b[49m\u001b[38;5;28;43mself\u001b[39;49m\u001b[43m.\u001b[49m\u001b[43mstring\u001b[49m\u001b[43m)\u001b[49m\n",
      "\u001b[36mFile \u001b[39m\u001b[32m/Library/Frameworks/Python.framework/Versions/3.12/lib/python3.12/site-packages/textblob/en/__init__.py:118\u001b[39m, in \u001b[36msuggest\u001b[39m\u001b[34m(w)\u001b[39m\n\u001b[32m    116\u001b[39m \u001b[38;5;28;01mdef\u001b[39;00m \u001b[34msuggest\u001b[39m(w):\n\u001b[32m    117\u001b[39m \u001b[38;5;250m    \u001b[39m\u001b[33;03m\"\"\"Returns a list of (word, confidence)-tuples of spelling corrections.\"\"\"\u001b[39;00m\n\u001b[32m--> \u001b[39m\u001b[32m118\u001b[39m     \u001b[38;5;28;01mreturn\u001b[39;00m \u001b[43mspelling\u001b[49m\u001b[43m.\u001b[49m\u001b[43msuggest\u001b[49m\u001b[43m(\u001b[49m\u001b[43mw\u001b[49m\u001b[43m)\u001b[49m\n",
      "\u001b[36mFile \u001b[39m\u001b[32m/Library/Frameworks/Python.framework/Versions/3.12/lib/python3.12/site-packages/textblob/_text.py:1692\u001b[39m, in \u001b[36mSpelling.suggest\u001b[39m\u001b[34m(self, w)\u001b[39m\n\u001b[32m   1687\u001b[39m \u001b[38;5;28;01mif\u001b[39;00m w.replace(\u001b[33m\"\u001b[39m\u001b[33m.\u001b[39m\u001b[33m\"\u001b[39m, \u001b[33m\"\u001b[39m\u001b[33m\"\u001b[39m).isdigit():\n\u001b[32m   1688\u001b[39m     \u001b[38;5;28;01mreturn\u001b[39;00m [(w, \u001b[32m1.0\u001b[39m)]  \u001b[38;5;66;03m# 1.5\u001b[39;00m\n\u001b[32m   1689\u001b[39m candidates = (\n\u001b[32m   1690\u001b[39m     \u001b[38;5;28mself\u001b[39m._known([w])\n\u001b[32m   1691\u001b[39m     \u001b[38;5;129;01mor\u001b[39;00m \u001b[38;5;28mself\u001b[39m._known(\u001b[38;5;28mself\u001b[39m._edit1(w))\n\u001b[32m-> \u001b[39m\u001b[32m1692\u001b[39m     \u001b[38;5;129;01mor\u001b[39;00m \u001b[38;5;28mself\u001b[39m._known(\u001b[38;5;28;43mself\u001b[39;49m\u001b[43m.\u001b[49m\u001b[43m_edit2\u001b[49m\u001b[43m(\u001b[49m\u001b[43mw\u001b[49m\u001b[43m)\u001b[49m)\n\u001b[32m   1693\u001b[39m     \u001b[38;5;129;01mor\u001b[39;00m [w]\n\u001b[32m   1694\u001b[39m )\n\u001b[32m   1695\u001b[39m candidates = [(\u001b[38;5;28mself\u001b[39m.get(c, \u001b[32m0.0\u001b[39m), c) \u001b[38;5;28;01mfor\u001b[39;00m c \u001b[38;5;129;01min\u001b[39;00m candidates]\n\u001b[32m   1696\u001b[39m s = \u001b[38;5;28mfloat\u001b[39m(\u001b[38;5;28msum\u001b[39m(p \u001b[38;5;28;01mfor\u001b[39;00m p, word \u001b[38;5;129;01min\u001b[39;00m candidates) \u001b[38;5;129;01mor\u001b[39;00m \u001b[32m1\u001b[39m)\n",
      "\u001b[36mFile \u001b[39m\u001b[32m/Library/Frameworks/Python.framework/Versions/3.12/lib/python3.12/site-packages/textblob/_text.py:1667\u001b[39m, in \u001b[36mSpelling._edit2\u001b[39m\u001b[34m(self, w)\u001b[39m\n\u001b[32m   1664\u001b[39m \u001b[38;5;250m\u001b[39m\u001b[33;03m\"\"\"Returns a set of words with edit distance 2 from the given word\"\"\"\u001b[39;00m\n\u001b[32m   1665\u001b[39m \u001b[38;5;66;03m# Of all spelling errors, 99% is covered by edit distance 2.\u001b[39;00m\n\u001b[32m   1666\u001b[39m \u001b[38;5;66;03m# Only keep candidates that are actually known words (20% speedup).\u001b[39;00m\n\u001b[32m-> \u001b[39m\u001b[32m1667\u001b[39m \u001b[38;5;28;01mreturn\u001b[39;00m \u001b[38;5;28;43mset\u001b[39;49m\u001b[43m(\u001b[49m\u001b[43me2\u001b[49m\u001b[43m \u001b[49m\u001b[38;5;28;43;01mfor\u001b[39;49;00m\u001b[43m \u001b[49m\u001b[43me1\u001b[49m\u001b[43m \u001b[49m\u001b[38;5;129;43;01min\u001b[39;49;00m\u001b[43m \u001b[49m\u001b[38;5;28;43mself\u001b[39;49m\u001b[43m.\u001b[49m\u001b[43m_edit1\u001b[49m\u001b[43m(\u001b[49m\u001b[43mw\u001b[49m\u001b[43m)\u001b[49m\u001b[43m \u001b[49m\u001b[38;5;28;43;01mfor\u001b[39;49;00m\u001b[43m \u001b[49m\u001b[43me2\u001b[49m\u001b[43m \u001b[49m\u001b[38;5;129;43;01min\u001b[39;49;00m\u001b[43m \u001b[49m\u001b[38;5;28;43mself\u001b[39;49m\u001b[43m.\u001b[49m\u001b[43m_edit1\u001b[49m\u001b[43m(\u001b[49m\u001b[43me1\u001b[49m\u001b[43m)\u001b[49m\u001b[43m \u001b[49m\u001b[38;5;28;43;01mif\u001b[39;49;00m\u001b[43m \u001b[49m\u001b[43me2\u001b[49m\u001b[43m \u001b[49m\u001b[38;5;129;43;01min\u001b[39;49;00m\u001b[43m \u001b[49m\u001b[38;5;28;43mself\u001b[39;49m\u001b[43m)\u001b[49m\n",
      "\u001b[36mFile \u001b[39m\u001b[32m/Library/Frameworks/Python.framework/Versions/3.12/lib/python3.12/site-packages/textblob/_text.py:1667\u001b[39m, in \u001b[36m<genexpr>\u001b[39m\u001b[34m(.0)\u001b[39m\n\u001b[32m   1664\u001b[39m \u001b[38;5;250m\u001b[39m\u001b[33;03m\"\"\"Returns a set of words with edit distance 2 from the given word\"\"\"\u001b[39;00m\n\u001b[32m   1665\u001b[39m \u001b[38;5;66;03m# Of all spelling errors, 99% is covered by edit distance 2.\u001b[39;00m\n\u001b[32m   1666\u001b[39m \u001b[38;5;66;03m# Only keep candidates that are actually known words (20% speedup).\u001b[39;00m\n\u001b[32m-> \u001b[39m\u001b[32m1667\u001b[39m \u001b[38;5;28;01mreturn\u001b[39;00m \u001b[38;5;28mset\u001b[39m(e2 \u001b[38;5;28;01mfor\u001b[39;00m e1 \u001b[38;5;129;01min\u001b[39;00m \u001b[38;5;28mself\u001b[39m._edit1(w) \u001b[38;5;28;01mfor\u001b[39;00m e2 \u001b[38;5;129;01min\u001b[39;00m \u001b[38;5;28mself\u001b[39m._edit1(e1) \u001b[38;5;28;01mif\u001b[39;00m \u001b[43me2\u001b[49m\u001b[43m \u001b[49m\u001b[38;5;129;43;01min\u001b[39;49;00m\u001b[43m \u001b[49m\u001b[38;5;28;43mself\u001b[39;49m)\n",
      "\u001b[36mFile \u001b[39m\u001b[32m/Library/Frameworks/Python.framework/Versions/3.12/lib/python3.12/site-packages/textblob/_text.py:104\u001b[39m, in \u001b[36mlazydict.__contains__\u001b[39m\u001b[34m(self, *args)\u001b[39m\n\u001b[32m    103\u001b[39m \u001b[38;5;28;01mdef\u001b[39;00m \u001b[34m__contains__\u001b[39m(\u001b[38;5;28mself\u001b[39m, *args):\n\u001b[32m--> \u001b[39m\u001b[32m104\u001b[39m     \u001b[38;5;28;01mreturn\u001b[39;00m \u001b[38;5;28;43mself\u001b[39;49m\u001b[43m.\u001b[49m\u001b[43m_lazy\u001b[49m\u001b[43m(\u001b[49m\u001b[33;43m\"\u001b[39;49m\u001b[33;43m__contains__\u001b[39;49m\u001b[33;43m\"\u001b[39;49m\u001b[43m,\u001b[49m\u001b[43m \u001b[49m\u001b[43m*\u001b[49m\u001b[43margs\u001b[49m\u001b[43m)\u001b[49m\n",
      "\u001b[36mFile \u001b[39m\u001b[32m/Library/Frameworks/Python.framework/Versions/3.12/lib/python3.12/site-packages/textblob/_text.py:85\u001b[39m, in \u001b[36mlazydict._lazy\u001b[39m\u001b[34m(self, method, *args)\u001b[39m\n\u001b[32m     80\u001b[39m \u001b[38;5;28;01mdef\u001b[39;00m \u001b[34mload\u001b[39m(\u001b[38;5;28mself\u001b[39m):\n\u001b[32m     81\u001b[39m     \u001b[38;5;66;03m# Must be overridden in a subclass.\u001b[39;00m\n\u001b[32m     82\u001b[39m     \u001b[38;5;66;03m# Must load data with dict.__setitem__(self, k, v) instead of lazydict[k] = v.\u001b[39;00m\n\u001b[32m     83\u001b[39m     \u001b[38;5;28;01mpass\u001b[39;00m\n\u001b[32m---> \u001b[39m\u001b[32m85\u001b[39m \u001b[38;5;28;01mdef\u001b[39;00m \u001b[34m_lazy\u001b[39m(\u001b[38;5;28mself\u001b[39m, method, *args):\n\u001b[32m     86\u001b[39m \u001b[38;5;250m    \u001b[39m\u001b[33;03m\"\"\"If the dictionary is empty, calls lazydict.load().\u001b[39;00m\n\u001b[32m     87\u001b[39m \u001b[33;03m    Replaces lazydict.method() with dict.method() and calls it.\u001b[39;00m\n\u001b[32m     88\u001b[39m \u001b[33;03m    \"\"\"\u001b[39;00m\n\u001b[32m     89\u001b[39m     \u001b[38;5;28;01mif\u001b[39;00m \u001b[38;5;28mdict\u001b[39m.\u001b[34m__len__\u001b[39m(\u001b[38;5;28mself\u001b[39m) == \u001b[32m0\u001b[39m:\n",
      "\u001b[31mKeyboardInterrupt\u001b[39m: "
     ]
    }
   ],
   "source": [
    "#stopword_exclusion_list = ['no', 'not']\n",
    "#tba3102.exclude_stopwords(stopword_exclusion_list)\n",
    "\n",
    "\n",
    "tba3102.normalize_corpus(df, 'review_text', 'cleaned_review_text')\n",
    "\n",
    "df.head(10)"
   ]
  },
  {
   "cell_type": "code",
   "execution_count": 47,
   "metadata": {},
   "outputs": [
    {
     "name": "stdout",
     "output_type": "stream",
     "text": [
      "<class 'pandas.core.frame.DataFrame'>\n",
      "RangeIndex: 135998 entries, 0 to 135997\n",
      "Data columns (total 9 columns):\n",
      " #   Column                               Non-Null Count   Dtype  \n",
      "---  ------                               --------------   -----  \n",
      " 0   place_id                             135998 non-null  object \n",
      " 1   place_name                           135998 non-null  object \n",
      " 2   rating                               135998 non-null  int64  \n",
      " 3   review_text                          135998 non-null  object \n",
      " 4   published_at_date                    135998 non-null  object \n",
      " 5   review_likes_count                   135998 non-null  int64  \n",
      " 6   total_number_of_reviews_by_reviewer  135912 non-null  float64\n",
      " 7   is_local_guide                       135912 non-null  object \n",
      " 8   cleaned_review_text                  35103 non-null   object \n",
      "dtypes: float64(1), int64(2), object(6)\n",
      "memory usage: 9.3+ MB\n"
     ]
    }
   ],
   "source": [
    "df = df.replace(r'^(\\s?)+$', np.nan, regex=True)\n",
    "df.info()"
   ]
  },
  {
   "cell_type": "code",
   "execution_count": 48,
   "metadata": {},
   "outputs": [
    {
     "ename": "KeyError",
     "evalue": "'cleaned_sms_message'",
     "output_type": "error",
     "traceback": [
      "\u001b[31m---------------------------------------------------------------------------\u001b[39m",
      "\u001b[31mKeyError\u001b[39m                                  Traceback (most recent call last)",
      "\u001b[36mFile \u001b[39m\u001b[32m/Library/Frameworks/Python.framework/Versions/3.12/lib/python3.12/site-packages/pandas/core/indexes/base.py:3805\u001b[39m, in \u001b[36mIndex.get_loc\u001b[39m\u001b[34m(self, key)\u001b[39m\n\u001b[32m   3804\u001b[39m \u001b[38;5;28;01mtry\u001b[39;00m:\n\u001b[32m-> \u001b[39m\u001b[32m3805\u001b[39m     \u001b[38;5;28;01mreturn\u001b[39;00m \u001b[38;5;28;43mself\u001b[39;49m\u001b[43m.\u001b[49m\u001b[43m_engine\u001b[49m\u001b[43m.\u001b[49m\u001b[43mget_loc\u001b[49m\u001b[43m(\u001b[49m\u001b[43mcasted_key\u001b[49m\u001b[43m)\u001b[49m\n\u001b[32m   3806\u001b[39m \u001b[38;5;28;01mexcept\u001b[39;00m \u001b[38;5;167;01mKeyError\u001b[39;00m \u001b[38;5;28;01mas\u001b[39;00m err:\n",
      "\u001b[36mFile \u001b[39m\u001b[32mindex.pyx:167\u001b[39m, in \u001b[36mpandas._libs.index.IndexEngine.get_loc\u001b[39m\u001b[34m()\u001b[39m\n",
      "\u001b[36mFile \u001b[39m\u001b[32mindex.pyx:196\u001b[39m, in \u001b[36mpandas._libs.index.IndexEngine.get_loc\u001b[39m\u001b[34m()\u001b[39m\n",
      "\u001b[36mFile \u001b[39m\u001b[32mpandas/_libs/hashtable_class_helper.pxi:7081\u001b[39m, in \u001b[36mpandas._libs.hashtable.PyObjectHashTable.get_item\u001b[39m\u001b[34m()\u001b[39m\n",
      "\u001b[36mFile \u001b[39m\u001b[32mpandas/_libs/hashtable_class_helper.pxi:7089\u001b[39m, in \u001b[36mpandas._libs.hashtable.PyObjectHashTable.get_item\u001b[39m\u001b[34m()\u001b[39m\n",
      "\u001b[31mKeyError\u001b[39m: 'cleaned_sms_message'",
      "\nThe above exception was the direct cause of the following exception:\n",
      "\u001b[31mKeyError\u001b[39m                                  Traceback (most recent call last)",
      "\u001b[36mCell\u001b[39m\u001b[36m \u001b[39m\u001b[32mIn[48]\u001b[39m\u001b[32m, line 1\u001b[39m\n\u001b[32m----> \u001b[39m\u001b[32m1\u001b[39m df = df[\u001b[43mdf\u001b[49m\u001b[43m[\u001b[49m\u001b[33;43m\"\u001b[39;49m\u001b[33;43mcleaned_sms_message\u001b[39;49m\u001b[33;43m\"\u001b[39;49m\u001b[43m]\u001b[49m.str.strip() != \u001b[33m\"\u001b[39m\u001b[33m\"\u001b[39m]\n\u001b[32m      3\u001b[39m df = df.dropna().reset_index(drop=\u001b[38;5;28;01mTrue\u001b[39;00m)\n\u001b[32m      4\u001b[39m df.info()\n",
      "\u001b[36mFile \u001b[39m\u001b[32m/Library/Frameworks/Python.framework/Versions/3.12/lib/python3.12/site-packages/pandas/core/frame.py:4102\u001b[39m, in \u001b[36mDataFrame.__getitem__\u001b[39m\u001b[34m(self, key)\u001b[39m\n\u001b[32m   4100\u001b[39m \u001b[38;5;28;01mif\u001b[39;00m \u001b[38;5;28mself\u001b[39m.columns.nlevels > \u001b[32m1\u001b[39m:\n\u001b[32m   4101\u001b[39m     \u001b[38;5;28;01mreturn\u001b[39;00m \u001b[38;5;28mself\u001b[39m._getitem_multilevel(key)\n\u001b[32m-> \u001b[39m\u001b[32m4102\u001b[39m indexer = \u001b[38;5;28;43mself\u001b[39;49m\u001b[43m.\u001b[49m\u001b[43mcolumns\u001b[49m\u001b[43m.\u001b[49m\u001b[43mget_loc\u001b[49m\u001b[43m(\u001b[49m\u001b[43mkey\u001b[49m\u001b[43m)\u001b[49m\n\u001b[32m   4103\u001b[39m \u001b[38;5;28;01mif\u001b[39;00m is_integer(indexer):\n\u001b[32m   4104\u001b[39m     indexer = [indexer]\n",
      "\u001b[36mFile \u001b[39m\u001b[32m/Library/Frameworks/Python.framework/Versions/3.12/lib/python3.12/site-packages/pandas/core/indexes/base.py:3812\u001b[39m, in \u001b[36mIndex.get_loc\u001b[39m\u001b[34m(self, key)\u001b[39m\n\u001b[32m   3807\u001b[39m     \u001b[38;5;28;01mif\u001b[39;00m \u001b[38;5;28misinstance\u001b[39m(casted_key, \u001b[38;5;28mslice\u001b[39m) \u001b[38;5;129;01mor\u001b[39;00m (\n\u001b[32m   3808\u001b[39m         \u001b[38;5;28misinstance\u001b[39m(casted_key, abc.Iterable)\n\u001b[32m   3809\u001b[39m         \u001b[38;5;129;01mand\u001b[39;00m \u001b[38;5;28many\u001b[39m(\u001b[38;5;28misinstance\u001b[39m(x, \u001b[38;5;28mslice\u001b[39m) \u001b[38;5;28;01mfor\u001b[39;00m x \u001b[38;5;129;01min\u001b[39;00m casted_key)\n\u001b[32m   3810\u001b[39m     ):\n\u001b[32m   3811\u001b[39m         \u001b[38;5;28;01mraise\u001b[39;00m InvalidIndexError(key)\n\u001b[32m-> \u001b[39m\u001b[32m3812\u001b[39m     \u001b[38;5;28;01mraise\u001b[39;00m \u001b[38;5;167;01mKeyError\u001b[39;00m(key) \u001b[38;5;28;01mfrom\u001b[39;00m \u001b[34;01merr\u001b[39;00m\n\u001b[32m   3813\u001b[39m \u001b[38;5;28;01mexcept\u001b[39;00m \u001b[38;5;167;01mTypeError\u001b[39;00m:\n\u001b[32m   3814\u001b[39m     \u001b[38;5;66;03m# If we have a listlike key, _check_indexing_error will raise\u001b[39;00m\n\u001b[32m   3815\u001b[39m     \u001b[38;5;66;03m#  InvalidIndexError. Otherwise we fall through and re-raise\u001b[39;00m\n\u001b[32m   3816\u001b[39m     \u001b[38;5;66;03m#  the TypeError.\u001b[39;00m\n\u001b[32m   3817\u001b[39m     \u001b[38;5;28mself\u001b[39m._check_indexing_error(key)\n",
      "\u001b[31mKeyError\u001b[39m: 'cleaned_sms_message'"
     ]
    }
   ],
   "source": [
    "df = df[df[\"cleaned_sms_message\"].str.strip() != \"\"]\n",
    "\n",
    "df = df.dropna().reset_index(drop=True)\n",
    "df.info()"
   ]
  },
  {
   "cell_type": "code",
   "execution_count": 15,
   "metadata": {},
   "outputs": [
    {
     "name": "stdout",
     "output_type": "stream",
     "text": [
      "Total SMS Messages: 5557\n",
      "Ham Messages: 4810\n",
      "Spam Messages: 747\n"
     ]
    }
   ],
   "source": [
    "# Generate data quality report\n",
    "num_messages = len(df)\n",
    "num_ham = len(df[df['label'] == \"ham\"])\n",
    "num_spam = len(df[df[\"label\"] == \"spam\"])\n",
    "\n",
    "print(f\"Total SMS Messages: {num_messages}\")\n",
    "print(f\"Ham Messages: {num_ham}\")\n",
    "print(f\"Spam Messages: {num_spam}\")\n"
   ]
  },
  {
   "cell_type": "code",
   "execution_count": 18,
   "metadata": {},
   "outputs": [
    {
     "name": "stdout",
     "output_type": "stream",
     "text": [
      "Text processing ended at 2025-03-14 16:12:51.783876\n"
     ]
    }
   ],
   "source": [
    "df.to_csv('sms_cleaned.csv', index=False)\n",
    "\n",
    "print('Text processing ended at {}'.format(datetime.now()))"
   ]
  }
 ],
 "metadata": {
  "kernelspec": {
   "display_name": "Python 3",
   "language": "python",
   "name": "python3"
  },
  "language_info": {
   "codemirror_mode": {
    "name": "ipython",
    "version": 3
   },
   "file_extension": ".py",
   "mimetype": "text/x-python",
   "name": "python",
   "nbconvert_exporter": "python",
   "pygments_lexer": "ipython3",
   "version": "3.12.4"
  }
 },
 "nbformat": 4,
 "nbformat_minor": 2
}
