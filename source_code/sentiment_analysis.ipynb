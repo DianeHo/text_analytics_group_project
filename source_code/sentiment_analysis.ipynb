{
 "cells": [
  {
   "cell_type": "code",
   "execution_count": 57,
   "metadata": {},
   "outputs": [],
   "source": [
    "from sklearn import metrics\n",
    "\n",
    "import textblob\n",
    "\n",
    "# import src02\n",
    "\n",
    "import model_evaluation_utils as meu\n",
    "\n",
    "import tba3102\n",
    "import pandas as pd\n",
    "import numpy as np"
   ]
  },
  {
   "cell_type": "code",
   "execution_count": 58,
   "metadata": {},
   "outputs": [],
   "source": [
    "tba3102.set_default_pandas_options()"
   ]
  },
  {
   "cell_type": "code",
   "execution_count": 59,
   "metadata": {},
   "outputs": [],
   "source": [
    "file_name = \"cleaned-galaxy_cluster_word2vec\"\n",
    "# file_name = \"cleaned-apple_review_cluster_word2vec\"\n",
    "# file_name = \"cleaned-samsung_vs_pixel_cluster_word2vec\"\n",
    "df = pd.read_csv(f'../data/results/{file_name}.csv')"
   ]
  },
  {
   "cell_type": "code",
   "execution_count": 60,
   "metadata": {},
   "outputs": [
    {
     "data": {
      "text/html": [
       "<div>\n",
       "<style scoped>\n",
       "    .dataframe tbody tr th:only-of-type {\n",
       "        vertical-align: middle;\n",
       "    }\n",
       "\n",
       "    .dataframe tbody tr th {\n",
       "        vertical-align: top;\n",
       "    }\n",
       "\n",
       "    .dataframe thead th {\n",
       "        text-align: right;\n",
       "    }\n",
       "</style>\n",
       "<table border=\"1\" class=\"dataframe\">\n",
       "  <thead>\n",
       "    <tr style=\"text-align: right;\">\n",
       "      <th></th>\n",
       "      <th>Unnamed: 0</th>\n",
       "      <th>Comment ID</th>\n",
       "      <th>Comment Body</th>\n",
       "      <th>Author</th>\n",
       "      <th>Upvotes</th>\n",
       "      <th>Timestamp</th>\n",
       "      <th>Cleaned_Comment</th>\n",
       "      <th>ClusterLabel</th>\n",
       "    </tr>\n",
       "  </thead>\n",
       "  <tbody>\n",
       "    <tr>\n",
       "      <th>0</th>\n",
       "      <td>0</td>\n",
       "      <td>m5u0cnr</td>\n",
       "      <td>\"Presenting, the new s25 series, now with the ...</td>\n",
       "      <td>EVD27</td>\n",
       "      <td>213</td>\n",
       "      <td>1.736231e+09</td>\n",
       "      <td>present new series new gap camera bump well di...</td>\n",
       "      <td>50</td>\n",
       "    </tr>\n",
       "    <tr>\n",
       "      <th>1</th>\n",
       "      <td>1</td>\n",
       "      <td>m5ttncm</td>\n",
       "      <td>More like s24 ultra rounded version, given the...</td>\n",
       "      <td>Miyukicc</td>\n",
       "      <td>67</td>\n",
       "      <td>1.736227e+09</td>\n",
       "      <td>like ultra rounded version give minimal speck ...</td>\n",
       "      <td>22</td>\n",
       "    </tr>\n",
       "    <tr>\n",
       "      <th>2</th>\n",
       "      <td>2</td>\n",
       "      <td>m5tix2l</td>\n",
       "      <td>Same phone in a slightly new body (ultra) \\n\\n...</td>\n",
       "      <td>judgedavid90</td>\n",
       "      <td>397</td>\n",
       "      <td>1.736223e+09</td>\n",
       "      <td>phone slightly new body ultra give I shit chip...</td>\n",
       "      <td>32</td>\n",
       "    </tr>\n",
       "    <tr>\n",
       "      <th>3</th>\n",
       "      <td>3</td>\n",
       "      <td>m5tahhm</td>\n",
       "      <td>Looks great, now only if they would fix their ...</td>\n",
       "      <td>One-Patience-1187</td>\n",
       "      <td>83</td>\n",
       "      <td>1.736220e+09</td>\n",
       "      <td>look great would fix camera oversaturate overe...</td>\n",
       "      <td>50</td>\n",
       "    </tr>\n",
       "    <tr>\n",
       "      <th>4</th>\n",
       "      <td>4</td>\n",
       "      <td>m5tut4z</td>\n",
       "      <td>The trade in deals better be out of this world</td>\n",
       "      <td>UrDoinGood2</td>\n",
       "      <td>24</td>\n",
       "      <td>1.736228e+09</td>\n",
       "      <td>trade deal well world</td>\n",
       "      <td>46</td>\n",
       "    </tr>\n",
       "  </tbody>\n",
       "</table>\n",
       "</div>"
      ],
      "text/plain": [
       "   Unnamed: 0 Comment ID                                       Comment Body             Author  Upvotes     Timestamp                                    Cleaned_Comment  ClusterLabel\n",
       "0           0    m5u0cnr  \"Presenting, the new s25 series, now with the ...              EVD27      213  1.736231e+09  present new series new gap camera bump well di...            50\n",
       "1           1    m5ttncm  More like s24 ultra rounded version, given the...           Miyukicc       67  1.736227e+09  like ultra rounded version give minimal speck ...            22\n",
       "2           2    m5tix2l  Same phone in a slightly new body (ultra) \\n\\n...       judgedavid90      397  1.736223e+09  phone slightly new body ultra give I shit chip...            32\n",
       "3           3    m5tahhm  Looks great, now only if they would fix their ...  One-Patience-1187       83  1.736220e+09  look great would fix camera oversaturate overe...            50\n",
       "4           4    m5tut4z     The trade in deals better be out of this world        UrDoinGood2       24  1.736228e+09                              trade deal well world            46"
      ]
     },
     "execution_count": 60,
     "metadata": {},
     "output_type": "execute_result"
    }
   ],
   "source": [
    "df.head()"
   ]
  },
  {
   "cell_type": "code",
   "execution_count": 61,
   "metadata": {},
   "outputs": [
    {
     "name": "stdout",
     "output_type": "stream",
     "text": [
      "cleaned-galaxy_cluster_word2vec\n"
     ]
    },
    {
     "data": {
      "text/plain": [
       "sentiments\n",
       "neutral     378\n",
       "positive     63\n",
       "negative     39\n",
       "Name: count, dtype: int64"
      ]
     },
     "execution_count": 61,
     "metadata": {},
     "output_type": "execute_result"
    }
   ],
   "source": [
    "df[\"sentiment_polarity\"] = [textblob.TextBlob(review).sentiment.polarity for review in df[\"Cleaned_Comment\"]]\n",
    "df[\"sentiments\"] = ['positive' if score >= 0.3 else 'neutral' for score in df[\"sentiment_polarity\"]]\n",
    "df[\"sentiments\"] = ['negative' if score <= -0.3 else sentiment for score,sentiment in zip(df[\"sentiment_polarity\"],df[\"sentiments\"])]\n",
    "print(file_name)\n",
    "df[\"sentiments\"].value_counts()"
   ]
  },
  {
   "cell_type": "code",
   "execution_count": 62,
   "metadata": {},
   "outputs": [
    {
     "name": "stdout",
     "output_type": "stream",
     "text": [
      "sentiments\n",
      "positive    63\n",
      "negative    39\n",
      "Name: count, dtype: int64\n",
      "0.6176470588235294\n",
      "0.38235294117647056\n"
     ]
    },
    {
     "data": {
      "text/html": [
       "<div>\n",
       "<style scoped>\n",
       "    .dataframe tbody tr th:only-of-type {\n",
       "        vertical-align: middle;\n",
       "    }\n",
       "\n",
       "    .dataframe tbody tr th {\n",
       "        vertical-align: top;\n",
       "    }\n",
       "\n",
       "    .dataframe thead th {\n",
       "        text-align: right;\n",
       "    }\n",
       "</style>\n",
       "<table border=\"1\" class=\"dataframe\">\n",
       "  <thead>\n",
       "    <tr style=\"text-align: right;\">\n",
       "      <th></th>\n",
       "      <th>Unnamed: 0</th>\n",
       "      <th>Comment ID</th>\n",
       "      <th>Comment Body</th>\n",
       "      <th>Author</th>\n",
       "      <th>Upvotes</th>\n",
       "      <th>Timestamp</th>\n",
       "      <th>Cleaned_Comment</th>\n",
       "      <th>ClusterLabel</th>\n",
       "      <th>sentiment_polarity</th>\n",
       "      <th>sentiments</th>\n",
       "    </tr>\n",
       "  </thead>\n",
       "  <tbody>\n",
       "    <tr>\n",
       "      <th>0</th>\n",
       "      <td>14</td>\n",
       "      <td>m5v8azi</td>\n",
       "      <td>The wallpapers are beautiful</td>\n",
       "      <td>UnhappyAd7832</td>\n",
       "      <td>3</td>\n",
       "      <td>1.736256e+09</td>\n",
       "      <td>wallpaper beautiful</td>\n",
       "      <td>1</td>\n",
       "      <td>0.85</td>\n",
       "      <td>positive</td>\n",
       "    </tr>\n",
       "    <tr>\n",
       "      <th>1</th>\n",
       "      <td>180</td>\n",
       "      <td>m6xourd</td>\n",
       "      <td>Is it only me or someone else HATE those round...</td>\n",
       "      <td>FlacFanDAC</td>\n",
       "      <td>1</td>\n",
       "      <td>1.736783e+09</td>\n",
       "      <td>I someone else hate round corner</td>\n",
       "      <td>2</td>\n",
       "      <td>-0.50</td>\n",
       "      <td>negative</td>\n",
       "    </tr>\n",
       "    <tr>\n",
       "      <th>2</th>\n",
       "      <td>98</td>\n",
       "      <td>m5wzs77</td>\n",
       "      <td>Thank god I'll finally be able to afford an s2...</td>\n",
       "      <td>____nothing__</td>\n",
       "      <td>1</td>\n",
       "      <td>1.736276e+09</td>\n",
       "      <td>thank god I finally able afford</td>\n",
       "      <td>2</td>\n",
       "      <td>0.50</td>\n",
       "      <td>positive</td>\n",
       "    </tr>\n",
       "    <tr>\n",
       "      <th>3</th>\n",
       "      <td>374</td>\n",
       "      <td>m5wkvvg</td>\n",
       "      <td>I emulate on mine and that bump in performance...</td>\n",
       "      <td>Outrageous_Tiger9921</td>\n",
       "      <td>11</td>\n",
       "      <td>1.736272e+09</td>\n",
       "      <td>I emulate mine bump performance sound amazing</td>\n",
       "      <td>2</td>\n",
       "      <td>0.50</td>\n",
       "      <td>positive</td>\n",
       "    </tr>\n",
       "    <tr>\n",
       "      <th>4</th>\n",
       "      <td>17</td>\n",
       "      <td>m5tcfqg</td>\n",
       "      <td>They look awesome, can't wait for mine</td>\n",
       "      <td>JonathanDM7</td>\n",
       "      <td>6</td>\n",
       "      <td>1.736220e+09</td>\n",
       "      <td>look awesome wait mine</td>\n",
       "      <td>8</td>\n",
       "      <td>1.00</td>\n",
       "      <td>positive</td>\n",
       "    </tr>\n",
       "  </tbody>\n",
       "</table>\n",
       "</div>"
      ],
      "text/plain": [
       "   Unnamed: 0 Comment ID                                       Comment Body                Author  Upvotes     Timestamp                                Cleaned_Comment  ClusterLabel  sentiment_polarity sentiments\n",
       "0          14    m5v8azi                       The wallpapers are beautiful         UnhappyAd7832        3  1.736256e+09                            wallpaper beautiful             1                0.85   positive\n",
       "1         180    m6xourd  Is it only me or someone else HATE those round...            FlacFanDAC        1  1.736783e+09               I someone else hate round corner             2               -0.50   negative\n",
       "2          98    m5wzs77  Thank god I'll finally be able to afford an s2...         ____nothing__        1  1.736276e+09                thank god I finally able afford             2                0.50   positive\n",
       "3         374    m5wkvvg  I emulate on mine and that bump in performance...  Outrageous_Tiger9921       11  1.736272e+09  I emulate mine bump performance sound amazing             2                0.50   positive\n",
       "4          17    m5tcfqg             They look awesome, can't wait for mine           JonathanDM7        6  1.736220e+09                         look awesome wait mine             8                1.00   positive"
      ]
     },
     "execution_count": 62,
     "metadata": {},
     "output_type": "execute_result"
    }
   ],
   "source": [
    "df = df[(df[\"sentiments\"] == \"negative\") | (df[\"sentiments\"] == \"positive\")]\n",
    "df = df.sort_values(by=[\"ClusterLabel\",\"sentiments\"]).reset_index(drop=True)\n",
    "print(df[\"sentiments\"].value_counts())\n",
    "total = df[\"sentiments\"].count()\n",
    "pos = (df[\"sentiments\"] == \"positive\").sum()\n",
    "# print(pos)\n",
    "print(pos/total)\n",
    "print(1-pos/total)\n",
    "df.head()"
   ]
  },
  {
   "cell_type": "code",
   "execution_count": 63,
   "metadata": {},
   "outputs": [],
   "source": [
    "df.to_csv(f\"../data/results/{file_name}_with_sentiments.csv\")"
   ]
  },
  {
   "cell_type": "code",
   "execution_count": 64,
   "metadata": {},
   "outputs": [
    {
     "ename": "NameError",
     "evalue": "name 'src02' is not defined",
     "output_type": "error",
     "traceback": [
      "\u001b[1;31m---------------------------------------------------------------------------\u001b[0m",
      "\u001b[1;31mNameError\u001b[0m                                 Traceback (most recent call last)",
      "Cell \u001b[1;32mIn[64], line 1\u001b[0m\n\u001b[1;32m----> 1\u001b[0m meu\u001b[38;5;241m.\u001b[39mget_metrics(true_labels\u001b[38;5;241m=\u001b[39m\u001b[43msrc02\u001b[49m\u001b[38;5;241m.\u001b[39mtest_sentiments, predicted_labels\u001b[38;5;241m=\u001b[39mpredicted_sentiments)\n",
      "\u001b[1;31mNameError\u001b[0m: name 'src02' is not defined"
     ]
    }
   ],
   "source": [
    "meu.get_metrics(true_labels=src02.test_sentiments, predicted_labels=predicted_sentiments)"
   ]
  },
  {
   "cell_type": "code",
   "execution_count": null,
   "metadata": {},
   "outputs": [
    {
     "name": "stdout",
     "output_type": "stream",
     "text": [
      "              precision    recall  f1-score   support\n",
      "\n",
      "    negative       0.77      0.76      0.76      7490\n",
      "    positive       0.76      0.78      0.77      7510\n",
      "\n",
      "    accuracy                           0.77     15000\n",
      "   macro avg       0.77      0.77      0.77     15000\n",
      "weighted avg       0.77      0.77      0.77     15000\n",
      "\n"
     ]
    }
   ],
   "source": [
    "meu.display_classification_report(true_labels=src02.test_sentiments, predicted_labels=predicted_sentiments, \n",
    "                                  classes=['negative', 'positive'])"
   ]
  },
  {
   "cell_type": "code",
   "execution_count": null,
   "metadata": {},
   "outputs": [
    {
     "data": {
      "text/plain": [
       "array([[5668, 1822],\n",
       "       [1675, 5835]], dtype=int64)"
      ]
     },
     "execution_count": 7,
     "metadata": {},
     "output_type": "execute_result"
    }
   ],
   "source": [
    "metrics.confusion_matrix(y_true=src02.test_sentiments, y_pred=predicted_sentiments, labels=['negative', 'positive'])"
   ]
  }
 ],
 "metadata": {
  "kernelspec": {
   "display_name": "Python 3",
   "language": "python",
   "name": "python3"
  },
  "language_info": {
   "codemirror_mode": {
    "name": "ipython",
    "version": 3
   },
   "file_extension": ".py",
   "mimetype": "text/x-python",
   "name": "python",
   "nbconvert_exporter": "python",
   "pygments_lexer": "ipython3",
   "version": "3.12.1"
  }
 },
 "nbformat": 4,
 "nbformat_minor": 4
}
