{
 "cells": [
  {
   "cell_type": "code",
   "execution_count": 19,
   "metadata": {},
   "outputs": [],
   "source": [
    "import tba3102\n",
    "import pandas as pd\n",
    "import numpy as np"
   ]
  },
  {
   "cell_type": "code",
   "execution_count": 20,
   "metadata": {},
   "outputs": [],
   "source": [
    "tba3102.set_default_pandas_options()"
   ]
  },
  {
   "cell_type": "code",
   "execution_count": null,
   "metadata": {},
   "outputs": [
    {
     "name": "stderr",
     "output_type": "stream",
     "text": [
      "C:\\Users\\tee_m\\AppData\\Local\\Temp\\ipykernel_6700\\259763057.py:5: FutureWarning: A value is trying to be set on a copy of a DataFrame or Series through chained assignment using an inplace method.\n",
      "The behavior will change in pandas 3.0. This inplace method will never work because the intermediate object on which we are setting values always behaves as a copy.\n",
      "\n",
      "For example, when doing 'df[col].method(value, inplace=True)', try using 'df.method({col: value}, inplace=True)' or df[col] = df[col].method(value) instead, to perform the operation inplace on the original object.\n",
      "\n",
      "\n",
      "  df['Cleaned_Comment'].replace(r'^(\\s)+$', np.nan, regex=True, inplace=True)\n"
     ]
    }
   ],
   "source": [
    "# file_name = \"cleaned-galaxy_cluster_word2vec\"\n",
    "file_name = \"cleaned-apple_review_cluster_word2vec\"\n",
    "# file_name = \"cleaned-samsung_vs_pixel_cluster_word2vec\"\n",
    "df = pd.read_csv(f'../data/results/{file_name}.csv')\n",
    "df['Cleaned_Comment'].replace(r'^(\\s)+$', np.nan, regex=True, inplace=True)\n",
    "df = df.dropna(subset=['Cleaned_Comment']).reset_index(drop=True)\n",
    "df = df[df[\"Cleaned_Comment\"].apply(lambda x: len(x) > 2)]"
   ]
  },
  {
   "cell_type": "code",
   "execution_count": 22,
   "metadata": {},
   "outputs": [
    {
     "data": {
      "text/html": [
       "<div>\n",
       "<style scoped>\n",
       "    .dataframe tbody tr th:only-of-type {\n",
       "        vertical-align: middle;\n",
       "    }\n",
       "\n",
       "    .dataframe tbody tr th {\n",
       "        vertical-align: top;\n",
       "    }\n",
       "\n",
       "    .dataframe thead th {\n",
       "        text-align: right;\n",
       "    }\n",
       "</style>\n",
       "<table border=\"1\" class=\"dataframe\">\n",
       "  <thead>\n",
       "    <tr style=\"text-align: right;\">\n",
       "      <th></th>\n",
       "      <th>Unnamed: 0</th>\n",
       "      <th>Comment ID</th>\n",
       "      <th>Comment Body</th>\n",
       "      <th>Author</th>\n",
       "      <th>Upvotes</th>\n",
       "      <th>Timestamp</th>\n",
       "      <th>Cleaned_Comment</th>\n",
       "      <th>ClusterLabel</th>\n",
       "    </tr>\n",
       "  </thead>\n",
       "  <tbody>\n",
       "    <tr>\n",
       "      <th>0</th>\n",
       "      <td>0</td>\n",
       "      <td>m5u0cnr</td>\n",
       "      <td>\"Presenting, the new s25 series, now with the ...</td>\n",
       "      <td>EVD27</td>\n",
       "      <td>213</td>\n",
       "      <td>1.736231e+09</td>\n",
       "      <td>present new series new gap camera bump well di...</td>\n",
       "      <td>50</td>\n",
       "    </tr>\n",
       "    <tr>\n",
       "      <th>1</th>\n",
       "      <td>1</td>\n",
       "      <td>m5ttncm</td>\n",
       "      <td>More like s24 ultra rounded version, given the...</td>\n",
       "      <td>Miyukicc</td>\n",
       "      <td>67</td>\n",
       "      <td>1.736227e+09</td>\n",
       "      <td>like ultra rounded version give minimal speck ...</td>\n",
       "      <td>22</td>\n",
       "    </tr>\n",
       "    <tr>\n",
       "      <th>2</th>\n",
       "      <td>2</td>\n",
       "      <td>m5tix2l</td>\n",
       "      <td>Same phone in a slightly new body (ultra) \\n\\n...</td>\n",
       "      <td>judgedavid90</td>\n",
       "      <td>397</td>\n",
       "      <td>1.736223e+09</td>\n",
       "      <td>phone slightly new body ultra give I shit chip...</td>\n",
       "      <td>32</td>\n",
       "    </tr>\n",
       "    <tr>\n",
       "      <th>3</th>\n",
       "      <td>3</td>\n",
       "      <td>m5tahhm</td>\n",
       "      <td>Looks great, now only if they would fix their ...</td>\n",
       "      <td>One-Patience-1187</td>\n",
       "      <td>83</td>\n",
       "      <td>1.736220e+09</td>\n",
       "      <td>look great would fix camera oversaturate overe...</td>\n",
       "      <td>50</td>\n",
       "    </tr>\n",
       "    <tr>\n",
       "      <th>4</th>\n",
       "      <td>4</td>\n",
       "      <td>m5tut4z</td>\n",
       "      <td>The trade in deals better be out of this world</td>\n",
       "      <td>UrDoinGood2</td>\n",
       "      <td>24</td>\n",
       "      <td>1.736228e+09</td>\n",
       "      <td>trade deal well world</td>\n",
       "      <td>46</td>\n",
       "    </tr>\n",
       "  </tbody>\n",
       "</table>\n",
       "</div>"
      ],
      "text/plain": [
       "   Unnamed: 0 Comment ID                                       Comment Body             Author  Upvotes     Timestamp                                    Cleaned_Comment  ClusterLabel\n",
       "0           0    m5u0cnr  \"Presenting, the new s25 series, now with the ...              EVD27      213  1.736231e+09  present new series new gap camera bump well di...            50\n",
       "1           1    m5ttncm  More like s24 ultra rounded version, given the...           Miyukicc       67  1.736227e+09  like ultra rounded version give minimal speck ...            22\n",
       "2           2    m5tix2l  Same phone in a slightly new body (ultra) \\n\\n...       judgedavid90      397  1.736223e+09  phone slightly new body ultra give I shit chip...            32\n",
       "3           3    m5tahhm  Looks great, now only if they would fix their ...  One-Patience-1187       83  1.736220e+09  look great would fix camera oversaturate overe...            50\n",
       "4           4    m5tut4z     The trade in deals better be out of this world        UrDoinGood2       24  1.736228e+09                              trade deal well world            46"
      ]
     },
     "execution_count": 22,
     "metadata": {},
     "output_type": "execute_result"
    }
   ],
   "source": [
    "df.head()"
   ]
  },
  {
   "cell_type": "code",
   "execution_count": 23,
   "metadata": {},
   "outputs": [],
   "source": [
    "from nltk.corpus import sentiwordnet as swn\n",
    "import spacy\n",
    "nlp = spacy.load('en_core_web_sm')\n",
    "\n",
    "def analyze_sentiment_sentiwordnet_lexicon(review, verbose=False):\n",
    "\n",
    "    # tokenize and POS tag text tokens\n",
    "    tagged_text = [(token.text, token.tag_) for token in nlp(review)]\n",
    "    pos_score = neg_score = token_count = obj_score = 0\n",
    "    # get wordnet synsets based on POS tags\n",
    "    # get sentiment scores if synsets are found\n",
    "    for word, tag in tagged_text:\n",
    "\n",
    "        ss_set = None\n",
    "        if 'NN' in tag and list(swn.senti_synsets(word, 'n')):\n",
    "            ss_set = list(swn.senti_synsets(word, 'n'))[0]\n",
    "        elif 'VB' in tag and list(swn.senti_synsets(word, 'v')):\n",
    "            ss_set = list(swn.senti_synsets(word, 'v'))[0]\n",
    "        elif 'JJ' in tag and list(swn.senti_synsets(word, 'a')):\n",
    "            ss_set = list(swn.senti_synsets(word, 'a'))[0]\n",
    "        elif 'RB' in tag and list(swn.senti_synsets(word, 'r')):\n",
    "            ss_set = list(swn.senti_synsets(word, 'r'))[0]\n",
    "\n",
    "        # if senti-synset is found\n",
    "        if ss_set:\n",
    "\n",
    "            # add scores for all found synsets\n",
    "            pos_score += ss_set.pos_score()\n",
    "            neg_score += ss_set.neg_score()\n",
    "            obj_score += ss_set.obj_score()\n",
    "            token_count += 1\n",
    "\n",
    "    # aggregate final scores\n",
    "    if token_count == 0:\n",
    "        # print(\"Warning: No tokens were processed for sentiment analysis.\")\n",
    "        return 0  # or handle this case as needed\n",
    "\n",
    "    final_score = pos_score - neg_score\n",
    "    # print(\"Token Count:\", token_count)\n",
    "    norm_final_score = round(float(final_score) / token_count, 2)\n",
    "    final_sentiment = 'positive' if norm_final_score >= 0 else 'negative'\n",
    "\n",
    "    if verbose:\n",
    "\n",
    "        norm_obj_score = round(float(obj_score) / token_count, 2)\n",
    "        norm_pos_score = round(float(pos_score) / token_count, 2)\n",
    "        norm_neg_score = round(float(neg_score) / token_count, 2)\n",
    "\n",
    "        print('SENTIMENT STATS:')\n",
    "        print('Predicted Sentiment', final_sentiment)\n",
    "        print('Objectivity', norm_obj_score)\n",
    "        print('Positive', norm_pos_score)\n",
    "        print('Negative', norm_neg_score)\n",
    "        print('Overall', norm_final_score)\n",
    "\n",
    "    return norm_final_score"
   ]
  },
  {
   "cell_type": "code",
   "execution_count": 24,
   "metadata": {},
   "outputs": [],
   "source": [
    "df[\"sentiment_polarity\"] = [analyze_sentiment_sentiwordnet_lexicon(review) for review in df[\"Cleaned_Comment\"]]\n",
    "df[\"sentiments\"] = ['positive' if score >= 0.1 else 'neutral' for score in df[\"sentiment_polarity\"]]\n",
    "df[\"sentiments\"] = ['negative' if score <= -0.1 else sentiment for score,sentiment in zip(df[\"sentiment_polarity\"],df[\"sentiments\"])]\n",
    "# print(file_name)\n",
    "# df[\"sentiments\"].value_counts()"
   ]
  },
  {
   "cell_type": "code",
   "execution_count": 25,
   "metadata": {},
   "outputs": [
    {
     "data": {
      "text/plain": [
       "count    480.000000\n",
       "mean       0.031167\n",
       "std        0.107623\n",
       "min       -0.880000\n",
       "25%       -0.010000\n",
       "50%        0.020000\n",
       "75%        0.070000\n",
       "max        0.620000\n",
       "Name: sentiment_polarity, dtype: float64"
      ]
     },
     "execution_count": 25,
     "metadata": {},
     "output_type": "execute_result"
    }
   ],
   "source": [
    "df[\"sentiment_polarity\"].describe()"
   ]
  },
  {
   "cell_type": "code",
   "execution_count": 26,
   "metadata": {},
   "outputs": [
    {
     "name": "stdout",
     "output_type": "stream",
     "text": [
      "sentiments\n",
      "positive    95\n",
      "negative    27\n",
      "Name: count, dtype: int64\n",
      "0.7786885245901639\n",
      "0.2213114754098361\n"
     ]
    },
    {
     "data": {
      "text/html": [
       "<div>\n",
       "<style scoped>\n",
       "    .dataframe tbody tr th:only-of-type {\n",
       "        vertical-align: middle;\n",
       "    }\n",
       "\n",
       "    .dataframe tbody tr th {\n",
       "        vertical-align: top;\n",
       "    }\n",
       "\n",
       "    .dataframe thead th {\n",
       "        text-align: right;\n",
       "    }\n",
       "</style>\n",
       "<table border=\"1\" class=\"dataframe\">\n",
       "  <thead>\n",
       "    <tr style=\"text-align: right;\">\n",
       "      <th></th>\n",
       "      <th>Unnamed: 0</th>\n",
       "      <th>Comment ID</th>\n",
       "      <th>Comment Body</th>\n",
       "      <th>Author</th>\n",
       "      <th>Upvotes</th>\n",
       "      <th>Timestamp</th>\n",
       "      <th>Cleaned_Comment</th>\n",
       "      <th>ClusterLabel</th>\n",
       "      <th>sentiment_polarity</th>\n",
       "      <th>sentiments</th>\n",
       "    </tr>\n",
       "  </thead>\n",
       "  <tbody>\n",
       "    <tr>\n",
       "      <th>0</th>\n",
       "      <td>163</td>\n",
       "      <td>m6d2j46</td>\n",
       "      <td>more of the same old boring</td>\n",
       "      <td>sheldonxp2000</td>\n",
       "      <td>1</td>\n",
       "      <td>1.736490e+09</td>\n",
       "      <td>old bore</td>\n",
       "      <td>0</td>\n",
       "      <td>0.12</td>\n",
       "      <td>positive</td>\n",
       "    </tr>\n",
       "    <tr>\n",
       "      <th>1</th>\n",
       "      <td>14</td>\n",
       "      <td>m5v8azi</td>\n",
       "      <td>The wallpapers are beautiful</td>\n",
       "      <td>UnhappyAd7832</td>\n",
       "      <td>3</td>\n",
       "      <td>1.736256e+09</td>\n",
       "      <td>wallpaper beautiful</td>\n",
       "      <td>1</td>\n",
       "      <td>0.38</td>\n",
       "      <td>positive</td>\n",
       "    </tr>\n",
       "    <tr>\n",
       "      <th>2</th>\n",
       "      <td>180</td>\n",
       "      <td>m6xourd</td>\n",
       "      <td>Is it only me or someone else HATE those round...</td>\n",
       "      <td>FlacFanDAC</td>\n",
       "      <td>1</td>\n",
       "      <td>1.736783e+09</td>\n",
       "      <td>I someone else hate round corner</td>\n",
       "      <td>2</td>\n",
       "      <td>-0.12</td>\n",
       "      <td>negative</td>\n",
       "    </tr>\n",
       "    <tr>\n",
       "      <th>3</th>\n",
       "      <td>15</td>\n",
       "      <td>m5y9a9f</td>\n",
       "      <td>All I want is Qi2 🥺</td>\n",
       "      <td>Fezzicc</td>\n",
       "      <td>3</td>\n",
       "      <td>1.736289e+09</td>\n",
       "      <td>I want I</td>\n",
       "      <td>2</td>\n",
       "      <td>0.25</td>\n",
       "      <td>positive</td>\n",
       "    </tr>\n",
       "    <tr>\n",
       "      <th>4</th>\n",
       "      <td>243</td>\n",
       "      <td>m5vsouy</td>\n",
       "      <td>I'm pretty sure the elite chip is meant to be ...</td>\n",
       "      <td>ImawhaleCR</td>\n",
       "      <td>1</td>\n",
       "      <td>1.736263e+09</td>\n",
       "      <td>I pretty sure elite chip mean fair bit efficie...</td>\n",
       "      <td>2</td>\n",
       "      <td>0.12</td>\n",
       "      <td>positive</td>\n",
       "    </tr>\n",
       "  </tbody>\n",
       "</table>\n",
       "</div>"
      ],
      "text/plain": [
       "   Unnamed: 0 Comment ID                                       Comment Body         Author  Upvotes     Timestamp                                    Cleaned_Comment  ClusterLabel  sentiment_polarity sentiments\n",
       "0         163    m6d2j46                        more of the same old boring  sheldonxp2000        1  1.736490e+09                                           old bore             0                0.12   positive\n",
       "1          14    m5v8azi                       The wallpapers are beautiful  UnhappyAd7832        3  1.736256e+09                                wallpaper beautiful             1                0.38   positive\n",
       "2         180    m6xourd  Is it only me or someone else HATE those round...     FlacFanDAC        1  1.736783e+09                   I someone else hate round corner             2               -0.12   negative\n",
       "3          15    m5y9a9f                                All I want is Qi2 🥺        Fezzicc        3  1.736289e+09                                           I want I             2                0.25   positive\n",
       "4         243    m5vsouy  I'm pretty sure the elite chip is meant to be ...     ImawhaleCR        1  1.736263e+09  I pretty sure elite chip mean fair bit efficie...             2                0.12   positive"
      ]
     },
     "execution_count": 26,
     "metadata": {},
     "output_type": "execute_result"
    }
   ],
   "source": [
    "df = df[(df[\"sentiments\"] == \"negative\") | (df[\"sentiments\"] == \"positive\")]\n",
    "df = df.sort_values(by=[\"ClusterLabel\",\"sentiments\"]).reset_index(drop=True)\n",
    "print(df[\"sentiments\"].value_counts())\n",
    "total = df[\"sentiments\"].count()\n",
    "pos = (df[\"sentiments\"] == \"positive\").sum()\n",
    "# print(pos)\n",
    "print(pos/total)\n",
    "print(1-pos/total)\n",
    "df.head()"
   ]
  },
  {
   "cell_type": "markdown",
   "metadata": {},
   "source": [
    "galaxy -> 78%% positive\n",
    "apple -> 67% positive\n",
    "\n",
    "from this we can tell galaxy receives movre positive feedback on their phone products"
   ]
  },
  {
   "cell_type": "code",
   "execution_count": 27,
   "metadata": {},
   "outputs": [],
   "source": [
    "df.to_csv(f\"../data/results/{file_name}_with_sentiments.csv\")"
   ]
  }
 ],
 "metadata": {
  "kernelspec": {
   "display_name": "Python 3",
   "language": "python",
   "name": "python3"
  },
  "language_info": {
   "codemirror_mode": {
    "name": "ipython",
    "version": 3
   },
   "file_extension": ".py",
   "mimetype": "text/x-python",
   "name": "python",
   "nbconvert_exporter": "python",
   "pygments_lexer": "ipython3",
   "version": "3.12.1"
  }
 },
 "nbformat": 4,
 "nbformat_minor": 4
}
